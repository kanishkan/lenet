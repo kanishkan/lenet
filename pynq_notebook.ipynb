{
 "cells": [
  {
   "cell_type": "markdown",
   "metadata": {},
   "source": [
    "# AES FPGA - testing"
   ]
  },
  {
   "cell_type": "markdown",
   "metadata": {},
   "source": [
    "## Overlay\n",
    "Requires .bit and .tcl files.\n",
    "\n",
    "Syntax:\n",
    "```python\n",
    "from pynq.overlays.base import BaseOverlay\n",
    "overlay = BaseOverlay(\"base.bit\")\n",
    "```"
   ]
  },
  {
   "cell_type": "code",
   "execution_count": 1,
   "metadata": {},
   "outputs": [
    {
     "data": {
      "application/javascript": [
       "\n",
       "require(['notebook/js/codecell'], function(codecell) {\n",
       "  codecell.CodeCell.options_default.highlight_modes[\n",
       "      'magic_text/x-csrc'] = {'reg':[/^%%microblaze/]};\n",
       "  Jupyter.notebook.events.one('kernel_ready.Kernel', function(){\n",
       "      Jupyter.notebook.get_cells().map(function(cell){\n",
       "          if (cell.cell_type == 'code'){ cell.auto_highlight(); } }) ;\n",
       "  });\n",
       "});\n"
      ]
     },
     "metadata": {},
     "output_type": "display_data"
    }
   ],
   "source": [
    "from pynq import Overlay\n",
    "from pynq import MMIO"
   ]
  },
  {
   "cell_type": "code",
   "execution_count": 2,
   "metadata": {},
   "outputs": [
    {
     "name": "stderr",
     "output_type": "stream",
     "text": [
      "/usr/local/lib/python3.6/dist-packages/pynq/overlay.py:299: UserWarning: Users will not get PARAMETERS / REGISTERS information through TCL files. HWH file is recommended.\n",
      "  warnings.warn(message, UserWarning)\n"
     ]
    },
    {
     "data": {
      "text/plain": [
       "True"
      ]
     },
     "execution_count": 2,
     "metadata": {},
     "output_type": "execute_result"
    }
   ],
   "source": [
    "# Dowload bit file to PYNQ\n",
    "bit_file_name = \"design_1_wrapper.bit\"\n",
    "base = Overlay(bit_file_name)\n",
    "\n",
    "base.download()\n",
    "base.is_loaded()"
   ]
  },
  {
   "cell_type": "markdown",
   "metadata": {},
   "source": [
    "## `mmap` interface"
   ]
  },
  {
   "cell_type": "code",
   "execution_count": 3,
   "metadata": {},
   "outputs": [
    {
     "name": "stdout",
     "output_type": "stream",
     "text": [
      "DEVICECLASS : 1908\n",
      "DEVICE_ID : 305419896\n",
      "INTERFACE_TYPE : 2\n",
      "CORE_COUNT : 1\n",
      "CTRL_SIZE : 1024\n",
      "DMEM_SIZE : 32768\n",
      "IMEM_SIZE : 262144\n",
      "PMEM_SIZE : 1\n"
     ]
    }
   ],
   "source": [
    "# mmap config\n",
    "base_address = 0x43C00000\n",
    "ctrl_size = 2**10     # 1kb control register memory\n",
    "dmem_size = 32*2**10  # 32kb (15-bits)\n",
    "imem_size = 32*2**10  # 32kb (15-bits)\n",
    "pmem_size = 4*2**10   # 4kb paramter memory\n",
    "\n",
    "region_size = max([ctrl_size, dmem_size, imem_size, pmem_size])\n",
    "\n",
    "ctrl_mmap = MMIO(base_address, ctrl_size)\n",
    "imem_mmap = MMIO(base_address + region_size, imem_size)\n",
    "dmem_mmap = MMIO(base_address + (region_size*2), dmem_size)\n",
    "pmem_mmap = MMIO(base_address + (region_size*3), pmem_size)\n",
    "\n",
    "# print control memory segments\n",
    "print (\"DEVICECLASS : \" + str(ctrl_mmap.read(0x300)))\n",
    "print (\"DEVICE_ID : \" + str(ctrl_mmap.read(0x304)))\n",
    "print (\"INTERFACE_TYPE : \" + str(ctrl_mmap.read(0x308)))\n",
    "print (\"CORE_COUNT : \" + str(ctrl_mmap.read(0x30C)))\n",
    "print (\"CTRL_SIZE : \" + str(ctrl_mmap.read(0x310)))\n",
    "print (\"DMEM_SIZE : \" + str(ctrl_mmap.read(0x314)))\n",
    "print (\"IMEM_SIZE : \" + str(ctrl_mmap.read(0x318)))\n",
    "print (\"PMEM_SIZE : \" + str(ctrl_mmap.read(0x31C)))"
   ]
  },
  {
   "cell_type": "code",
   "execution_count": 162,
   "metadata": {},
   "outputs": [
    {
     "name": "stdout",
     "output_type": "stream",
     "text": [
      "DEVICECLASS : 1908\n",
      "DEVICE_ID : 305419896\n",
      "INTERFACE_TYPE : 2\n",
      "CORE_COUNT : 1\n",
      "CTRL_SIZE : 1024\n",
      "DMEM_SIZE : 32768\n",
      "IMEM_SIZE : 262144\n",
      "PMEM_SIZE : 1\n",
      "DEBUG_FEATURE : 1\n",
      "BREAKPOINT_COUNT : 1\n"
     ]
    }
   ],
   "source": [
    "# mmap config based on the TTA core's value\n",
    "base_address = 0x43C00000\n",
    "ctrl_size = 1024     # 1kb control register memory\n",
    "dmem_size = 32768    # 32kb (15-bits)\n",
    "imem_size = 262144   # Not sure why.\n",
    "pmem_size = 1        # Not sure about the reason\n",
    "\n",
    "region_size = max([ctrl_size, dmem_size, imem_size, pmem_size])\n",
    "\n",
    "ctrl_mmap = MMIO(base_address, ctrl_size)\n",
    "imem_mmap = MMIO(base_address + region_size, imem_size)\n",
    "dmem_mmap = MMIO(base_address + (region_size*2), dmem_size)\n",
    "pmem_mmap = MMIO(base_address + (region_size*3), pmem_size)\n",
    "\n",
    "# print control memory segments\n",
    "print (\"DEVICECLASS : \" + str(ctrl_mmap.read(0x300)))\n",
    "print (\"DEVICE_ID : \" + str(ctrl_mmap.read(0x304)))\n",
    "print (\"INTERFACE_TYPE : \" + str(ctrl_mmap.read(0x308)))\n",
    "print (\"CORE_COUNT : \" + str(ctrl_mmap.read(0x30C)))\n",
    "print (\"CTRL_SIZE : \" + str(ctrl_mmap.read(0x310)))\n",
    "print (\"DMEM_SIZE : \" + str(ctrl_mmap.read(0x314)))\n",
    "print (\"IMEM_SIZE : \" + str(ctrl_mmap.read(0x318)))\n",
    "print (\"PMEM_SIZE : \" + str(ctrl_mmap.read(0x31C)))\n",
    "print (\"DEBUG_FEATURE : \" + str(ctrl_mmap.read(0x320)))\n",
    "print (\"BREAKPOINT_COUNT : \" + str(ctrl_mmap.read(0x320)))"
   ]
  },
  {
   "cell_type": "markdown",
   "metadata": {},
   "source": [
    "## Read data to memory"
   ]
  },
  {
   "cell_type": "code",
   "execution_count": 5,
   "metadata": {},
   "outputs": [],
   "source": [
    "# Write to instruction memory\n",
    "imem_img = \"aes.img\"\n",
    "i=0\n",
    "with open (imem_img, mode='r') as file:\n",
    "    for line in file:\n",
    "        line = line.strip().rjust(64,'0')\n",
    "        for j in [1, 0]:\n",
    "            i_word = int(line[(32*j):(32*j+32)], 2)\n",
    "            imem_mmap.write(i, i_word)\n",
    "            i += 4"
   ]
  },
  {
   "cell_type": "code",
   "execution_count": 6,
   "metadata": {},
   "outputs": [],
   "source": [
    "# Write to data memory\n",
    "dmem_img = \"aes_data.img\"\n",
    "i=0\n",
    "with open (dmem_img, mode='r') as file:\n",
    "    for line in file:\n",
    "        line = line.strip().rjust(32,'0')\n",
    "        i_word = int(line, 2)\n",
    "        dmem_mmap.write(i, i_word)\n",
    "        i += 4"
   ]
  },
  {
   "cell_type": "code",
   "execution_count": 7,
   "metadata": {},
   "outputs": [],
   "source": [
    "def printTTAStatus(addr):\n",
    "    ctrl_mmap = addr\n",
    "    print (\"STATUS        : \" + str(ctrl_mmap.read(0x0)))\n",
    "    print (\"CYCLECNT      : \" + str(ctrl_mmap.read(0x4)))\n",
    "    print (\"CYCLECNT_HIGH : \" + str(ctrl_mmap.read(0x8)))\n",
    "    print (\"LOCKCNT       : \" + str(ctrl_mmap.read(0xC)))\n",
    "    print (\"LOCKCNT_HIGH  : \" + str(ctrl_mmap.read(0x10)))"
   ]
  },
  {
   "cell_type": "code",
   "execution_count": 8,
   "metadata": {},
   "outputs": [
    {
     "name": "stdout",
     "output_type": "stream",
     "text": [
      "STATUS        : 0\n",
      "CYCLECNT      : 0\n",
      "CYCLECNT_HIGH : 0\n",
      "LOCKCNT       : 0\n",
      "LOCKCNT_HIGH  : 0\n"
     ]
    }
   ],
   "source": [
    "printTTAStatus(ctrl_mmap)"
   ]
  },
  {
   "cell_type": "code",
   "execution_count": 9,
   "metadata": {},
   "outputs": [],
   "source": [
    "# Trigger exeuction\n",
    "ctrl_mmap.write(0x200, 0x2)"
   ]
  },
  {
   "cell_type": "code",
   "execution_count": 44,
   "metadata": {},
   "outputs": [
    {
     "name": "stdout",
     "output_type": "stream",
     "text": [
      "0x62488e82\n"
     ]
    }
   ],
   "source": [
    "print(hex(dmem_mmap.read(8)))"
   ]
  },
  {
   "cell_type": "code",
   "execution_count": 165,
   "metadata": {},
   "outputs": [
    {
     "name": "stdout",
     "output_type": "stream",
     "text": [
      "STATUS        : 0\n",
      "CYCLECNT      : 17\n",
      "CYCLECNT_HIGH : 97791\n",
      "LOCKCNT       : 0\n",
      "LOCKCNT_HIGH  : 2\n"
     ]
    }
   ],
   "source": [
    "# Trigger exeuction\n",
    "ctrl_mmap.write(0x200, 0x1)\n",
    "# Trigger exeuction\n",
    "ctrl_mmap.write(0x200, 0x2)\n",
    "printTTAStatus(ctrl_mmap)"
   ]
  },
  {
   "cell_type": "code",
   "execution_count": 166,
   "metadata": {},
   "outputs": [
    {
     "name": "stdout",
     "output_type": "stream",
     "text": [
      "CUSTOM        : 0\n",
      "CUSTOM        : 16\n",
      "CUSTOM        : 94121475\n",
      "CUSTOM        : 0\n",
      "CUSTOM        : 2\n",
      "CUSTOM        : 0\n",
      "\n",
      "CUSTOM2        : 0\n",
      "CUSTOM2        : 0\n",
      "CUSTOM2        : 0\n",
      "CUSTOM2        : 0\n",
      "CUSTOM2        : 0\n"
     ]
    }
   ],
   "source": [
    "print (\"CUSTOM        : \" + str(ctrl_mmap.read(0x0)))\n",
    "print (\"CUSTOM        : \" + str(ctrl_mmap.read(0x4)))\n",
    "print (\"CUSTOM        : \" + str(ctrl_mmap.read(0x8)))\n",
    "print (\"CUSTOM        : \" + str(ctrl_mmap.read(0xc)))\n",
    "print (\"CUSTOM        : \" + str(ctrl_mmap.read(0x10)))\n",
    "print (\"CUSTOM        : \" + str(ctrl_mmap.read(0x14)))\n",
    "print (\"\")\n",
    "print (\"CUSTOM2        : \" + str(ctrl_mmap.read(0x200)))\n",
    "print (\"CUSTOM2        : \" + str(ctrl_mmap.read(0x204)))\n",
    "print (\"CUSTOM2        : \" + str(ctrl_mmap.read(0x208)))\n",
    "print (\"CUSTOM2        : \" + str(ctrl_mmap.read(0x20c)))\n",
    "print (\"CUSTOM2        : \" + str(ctrl_mmap.read(0x210)))"
   ]
  },
  {
   "cell_type": "code",
   "execution_count": 338,
   "metadata": {},
   "outputs": [],
   "source": [
    "# Enable break-point 2 at address 17\n",
    "ctrl_mmap.write(0x208,8)\n",
    "ctrl_mmap.write(0x210,17)\n",
    "\n",
    "# reset the counters\n",
    "ctrl_mmap.write(0x200, 0x1)\n",
    "\n",
    "# start the execution\n",
    "ctrl_mmap.write(0x200, 0x2)\n",
    "\n",
    "#### Wait for some time\n",
    "# Read the counters you require\n",
    "# Write instruction/data memory with new program\n",
    "# Set break-point for new program\n",
    "ctrl_mmap.write(0x210,25)\n",
    "\n",
    "# reset the counters\n",
    "ctrl_mmap.write(0x200, 0x1)\n",
    "\n",
    "# start the execution\n",
    "ctrl_mmap.write(0x200, 0x2)"
   ]
  },
  {
   "cell_type": "code",
   "execution_count": 339,
   "metadata": {},
   "outputs": [
    {
     "name": "stdout",
     "output_type": "stream",
     "text": [
      "CUSTOM        : 2\n",
      "CUSTOM        : 17\n",
      "CUSTOM        : 24\n",
      "CUSTOM        : 0\n",
      "CUSTOM        : 47\n",
      "CUSTOM        : 0\n",
      "\n",
      "CUSTOM2        : 0\n",
      "CUSTOM2        : 0\n",
      "CUSTOM2        : 8\n",
      "CUSTOM2        : 17\n",
      "CUSTOM2        : 17\n"
     ]
    }
   ],
   "source": [
    "print (\"CUSTOM        : \" + str(ctrl_mmap.read(0x0)))\n",
    "print (\"CUSTOM        : \" + str(ctrl_mmap.read(0x4)))\n",
    "print (\"CUSTOM        : \" + str(ctrl_mmap.read(0x8)))\n",
    "print (\"CUSTOM        : \" + str(ctrl_mmap.read(0xc)))\n",
    "print (\"CUSTOM        : \" + str(ctrl_mmap.read(0x10)))\n",
    "print (\"CUSTOM        : \" + str(ctrl_mmap.read(0x14)))\n",
    "print (\"\")\n",
    "print (\"CUSTOM2        : \" + str(ctrl_mmap.read(0x200)))\n",
    "print (\"CUSTOM2        : \" + str(ctrl_mmap.read(0x204)))\n",
    "print (\"CUSTOM2        : \" + str(ctrl_mmap.read(0x208)))\n",
    "print (\"CUSTOM2        : \" + str(ctrl_mmap.read(0x20c)))\n",
    "print (\"CUSTOM2        : \" + str(ctrl_mmap.read(0x210)))"
   ]
  },
  {
   "cell_type": "code",
   "execution_count": 292,
   "metadata": {},
   "outputs": [
    {
     "name": "stdout",
     "output_type": "stream",
     "text": [
      "CUSTOM        : 0\n",
      "CUSTOM        : 15\n",
      "CUSTOM        : 2372663975\n",
      "CUSTOM        : 0\n",
      "CUSTOM        : 49\n",
      "CUSTOM        : 0\n",
      "\n",
      "CUSTOM2        : 0\n",
      "CUSTOM2        : 0\n",
      "CUSTOM2        : 0\n",
      "CUSTOM2        : 17\n",
      "CUSTOM2        : 17\n"
     ]
    }
   ],
   "source": [
    "print (\"CUSTOM        : \" + str(ctrl_mmap.read(0x0)))\n",
    "print (\"CUSTOM        : \" + str(ctrl_mmap.read(0x4)))\n",
    "print (\"CUSTOM        : \" + str(ctrl_mmap.read(0x8)))\n",
    "print (\"CUSTOM        : \" + str(ctrl_mmap.read(0xc)))\n",
    "print (\"CUSTOM        : \" + str(ctrl_mmap.read(0x10)))\n",
    "print (\"CUSTOM        : \" + str(ctrl_mmap.read(0x14)))\n",
    "print (\"\")\n",
    "print (\"CUSTOM2        : \" + str(ctrl_mmap.read(0x200)))\n",
    "print (\"CUSTOM2        : \" + str(ctrl_mmap.read(0x204)))\n",
    "print (\"CUSTOM2        : \" + str(ctrl_mmap.read(0x208)))\n",
    "print (\"CUSTOM2        : \" + str(ctrl_mmap.read(0x20c)))\n",
    "print (\"CUSTOM2        : \" + str(ctrl_mmap.read(0x210)))"
   ]
  },
  {
   "cell_type": "code",
   "execution_count": null,
   "metadata": {},
   "outputs": [],
   "source": []
  }
 ],
 "metadata": {
  "kernelspec": {
   "display_name": "Python 3",
   "language": "python",
   "name": "python3"
  },
  "language_info": {
   "codemirror_mode": {
    "name": "ipython",
    "version": 3
   },
   "file_extension": ".py",
   "mimetype": "text/x-python",
   "name": "python",
   "nbconvert_exporter": "python",
   "pygments_lexer": "ipython3",
   "version": "3.6.5"
  }
 },
 "nbformat": 4,
 "nbformat_minor": 2
}
