{
 "cells": [
  {
   "cell_type": "markdown",
   "metadata": {
    "colab_type": "text",
    "id": "-xY6o6bdwM-E"
   },
   "source": [
    "# AES FPGA - testing"
   ]
  },
  {
   "cell_type": "markdown",
   "metadata": {
    "colab_type": "text",
    "id": "X4Qi_1F6wM-M"
   },
   "source": [
    "## Overlay\n",
    "Requires .bit and .tcl files.\n",
    "\n",
    "Syntax:\n",
    "```python\n",
    "from pynq.overlays.base import BaseOverlay\n",
    "overlay = BaseOverlay(\"base.bit\")\n",
    "```"
   ]
  },
  {
   "cell_type": "code",
   "execution_count": null,
   "metadata": {
    "colab": {},
    "colab_type": "code",
    "id": "j-Grh39BwM-P"
   },
   "outputs": [],
   "source": [
    "from pynq import Overlay\n",
    "from pynq import MMIO\n",
    "import time"
   ]
  },
  {
   "cell_type": "code",
   "execution_count": null,
   "metadata": {
    "colab": {},
    "colab_type": "code",
    "id": "iPirA2IhwM-d"
   },
   "outputs": [],
   "source": [
    "# Dowload bit file to PYNQ\n",
    "bit_file_name = \"design_1_wrapper.bit\"\n",
    "base = Overlay(bit_file_name)\n",
    "\n",
    "base.download()\n",
    "base.is_loaded()"
   ]
  },
  {
   "cell_type": "markdown",
   "metadata": {
    "colab_type": "text",
    "id": "M5zMIJShwM-m"
   },
   "source": [
    "## `mmap` interface"
   ]
  },
  {
   "cell_type": "markdown",
   "metadata": {
    "colab_type": "text",
    "id": "n44wh6nfyV30"
   },
   "source": [
    "### The Alma interface layer automatically detects the TTA and exposes the address map through status and control registers. Simply pass dummy value to read them."
   ]
  },
  {
   "cell_type": "code",
   "execution_count": null,
   "metadata": {
    "colab": {},
    "colab_type": "code",
    "id": "X_aPbjNqwM-o"
   },
   "outputs": [],
   "source": [
    "# mmap config\n",
    "init_base_address = 0x43C00000\n",
    "init_ctrl_size = 2**10    # 1kb control register memory\n",
    "init_dmem_size = 2**16    # 16-bits\n",
    "init_imem_size = 2**10    # 10-bits\n",
    "init_pmem_size = 4*2**10  # 4kb paramter memory\n",
    "\n",
    "region_size = max([init_ctrl_size, init_dmem_size, init_imem_size, init_pmem_size])\n",
    "\n",
    "ctrl_mmap = MMIO(init_base_address, init_ctrl_size)\n",
    "imem_mmap = MMIO(init_base_address + region_size, init_imem_size)\n",
    "dmem_mmap = MMIO(init_base_address + (region_size*2), init_dmem_size)\n",
    "pmem_mmap = MMIO(init_base_address + (region_size*3), init_pmem_size)\n",
    "\n",
    "# print control memory segments\n",
    "print (\"DEVICECLASS : \" + str(ctrl_mmap.read(0x300)))\n",
    "print (\"DEVICE_ID : \" + str(ctrl_mmap.read(0x304)))\n",
    "print (\"INTERFACE_TYPE : \" + str(ctrl_mmap.read(0x308)))\n",
    "print (\"CORE_COUNT : \" + str(ctrl_mmap.read(0x30C)))\n",
    "print (\"CTRL_SIZE : \" + str(ctrl_mmap.read(0x310)))\n",
    "print (\"DMEM_SIZE : \" + str(ctrl_mmap.read(0x314)))\n",
    "print (\"IMEM_SIZE : \" + str(ctrl_mmap.read(0x318)))\n",
    "print (\"PMEM_SIZE : \" + str(ctrl_mmap.read(0x31C)))\n",
    "\n",
    "new_ctrl_size = ctrl_mmap.read(0x310)\n",
    "new_dmem_size = ctrl_mmap.read(0x314)\n",
    "new_imem_size = ctrl_mmap.read(0x318)\n",
    "new_pmem_size = ctrl_mmap.read(0x31C)"
   ]
  },
  {
   "cell_type": "markdown",
   "metadata": {
    "colab_type": "text",
    "id": "Nf22JhOhyvIH"
   },
   "source": [
    "### Use the read value as memory map"
   ]
  },
  {
   "cell_type": "code",
   "execution_count": null,
   "metadata": {
    "colab": {},
    "colab_type": "code",
    "id": "V_qR2on4wM-v"
   },
   "outputs": [],
   "source": [
    "# mmap config based on the TTA core's value\n",
    "base_address = init_base_address\n",
    "ctrl_size = new_ctrl_size\n",
    "dmem_size = new_dmem_size\n",
    "imem_size = new_imem_size\n",
    "pmem_size = new_pmem_size     # Address for second data memory\n",
    "\n",
    "region_size = max([ctrl_size, dmem_size, imem_size, pmem_size])\n",
    "\n",
    "ctrl_mmap = MMIO(base_address, ctrl_size)\n",
    "imem_mmap = MMIO(base_address + region_size, imem_size)\n",
    "dmem_mmap = MMIO(base_address + (region_size*2), dmem_size)\n",
    "pmem_mmap = MMIO(base_address + (region_size*3), pmem_size)\n",
    "\n",
    "# print control memory segments\n",
    "print (\"DEVICECLASS : \" + str(ctrl_mmap.read(0x300)))\n",
    "print (\"DEVICE_ID : \" + str(ctrl_mmap.read(0x304)))\n",
    "print (\"INTERFACE_TYPE : \" + str(ctrl_mmap.read(0x308)))\n",
    "print (\"CORE_COUNT : \" + str(ctrl_mmap.read(0x30C)))\n",
    "print (\"CTRL_SIZE : \" + str(ctrl_mmap.read(0x310)))\n",
    "print (\"DMEM_SIZE : \" + str(ctrl_mmap.read(0x314)))\n",
    "print (\"IMEM_SIZE : \" + str(ctrl_mmap.read(0x318)))\n",
    "print (\"PMEM_SIZE : \" + str(ctrl_mmap.read(0x31C)))\n",
    "print (\"DEBUG_FEATURE : \" + str(ctrl_mmap.read(0x320)))\n",
    "print (\"BREAKPOINT_COUNT : \" + str(ctrl_mmap.read(0x320)))"
   ]
  },
  {
   "cell_type": "markdown",
   "metadata": {
    "colab_type": "text",
    "id": "9sQ9-YaPwM-1"
   },
   "source": [
    "## Read data to memory"
   ]
  },
  {
   "cell_type": "code",
   "execution_count": null,
   "metadata": {
    "colab": {},
    "colab_type": "code",
    "id": "sKkq0h_iwM-3"
   },
   "outputs": [],
   "source": [
    "# Write to instruction memory\n",
    "imem_img = \"lenet.img\"\n",
    "i=0\n",
    "with open (imem_img, mode='r') as file:\n",
    "    for line in file:\n",
    "        line = line.strip().rjust(64,'0')\n",
    "        for j in [1, 0]:\n",
    "            i_word = int(line[(32*j):(32*j+32)], 2)\n",
    "            imem_mmap.write(i, i_word)\n",
    "            i += 4"
   ]
  },
  {
   "cell_type": "code",
   "execution_count": null,
   "metadata": {
    "colab": {},
    "colab_type": "code",
    "id": "fHwdxaTvwM-9"
   },
   "outputs": [],
   "source": [
    "# Write to data memory\n",
    "dmem_img = \"lenet_data.img\"\n",
    "i=0\n",
    "with open (dmem_img, mode='r') as file:\n",
    "    for line in file:\n",
    "        line = line.strip().rjust(32,'0')\n",
    "        i_word = int(line, 2)\n",
    "        dmem_mmap.write(i, i_word)\n",
    "        i += 4"
   ]
  },
  {
   "cell_type": "code",
   "execution_count": null,
   "metadata": {
    "colab": {},
    "colab_type": "code",
    "id": "_ViL3I1ewM_R"
   },
   "outputs": [],
   "source": [
    "# Trigger exeuction (Writing 0x2 to address 0x200 triggers TTA core)\n",
    "ctrl_mmap.write(0x200, 0x2)"
   ]
  },
  {
   "cell_type": "code",
   "execution_count": null,
   "metadata": {
    "colab": {},
    "colab_type": "code",
    "id": "wNkyGwtKxoSf"
   },
   "outputs": [],
   "source": [
    "time.sleep(5) # sleep for some time"
   ]
  },
  {
   "cell_type": "code",
   "execution_count": null,
   "metadata": {
    "colab": {},
    "colab_type": "code",
    "id": "q0JY4Dqextt1"
   },
   "outputs": [],
   "source": [
    "# Find physicall address for the ECC and LCC counter in simulator and set the address to following variables\n",
    "#   you can get the address with \"symbol_address predicted_number\", \n",
    "#   \"symbol_address ecc\" and \"symbol_address lcc\" command in the proxim\n",
    "predicted_number_addr = 8\n",
    "ecc_addr = 12\n",
    "lcc_addr = 16"
   ]
  },
  {
   "cell_type": "code",
   "execution_count": null,
   "metadata": {
    "colab": {},
    "colab_type": "code",
    "id": "Dz2ml6-hwM_X"
   },
   "outputs": [],
   "source": [
    "predicted_number = dmem_mmap.read(predicted_number_addr)\n",
    "ecc_count = dmem_mmap.read(ecc_addr)\n",
    "lcc_count = dmem_mmap.read(lcc_addr)\n",
    "print(\"Predicted Number: \" + str(predicted_number))\n",
    "print(\"Execution cycle count: \" + str(ecc_count))\n",
    "print(\"Lock cycle count: \" + str(ecc_count))"
   ]
  },
  {
   "cell_type": "code",
   "execution_count": null,
   "metadata": {},
   "outputs": [],
   "source": []
  }
 ],
 "metadata": {
  "colab": {
   "collapsed_sections": [],
   "name": "ia_fpga_testing.ipynb",
   "provenance": []
  },
  "kernelspec": {
   "display_name": "Python 3",
   "language": "python",
   "name": "python3"
  },
  "language_info": {
   "codemirror_mode": {
    "name": "ipython",
    "version": 3
   },
   "file_extension": ".py",
   "mimetype": "text/x-python",
   "name": "python",
   "nbconvert_exporter": "python",
   "pygments_lexer": "ipython3",
   "version": "3.6.5"
  }
 },
 "nbformat": 4,
 "nbformat_minor": 1
}
